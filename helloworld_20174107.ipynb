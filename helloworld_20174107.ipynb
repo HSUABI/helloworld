{
  "nbformat": 4,
  "nbformat_minor": 0,
  "metadata": {
    "colab": {
      "name": "helloworld_20174107.ipynb",
      "provenance": [],
      "authorship_tag": "ABX9TyPX0diNvyFAw8PWQSooRn6r",
      "include_colab_link": true
    },
    "kernelspec": {
      "name": "python3",
      "display_name": "Python 3"
    }
  },
  "cells": [
    {
      "cell_type": "markdown",
      "metadata": {
        "id": "view-in-github",
        "colab_type": "text"
      },
      "source": [
        "<a href=\"https://colab.research.google.com/github/HSUABI/helloworld/blob/main/helloworld_20174107.ipynb\" target=\"_parent\"><img src=\"https://colab.research.google.com/assets/colab-badge.svg\" alt=\"Open In Colab\"/></a>"
      ]
    },
    {
      "cell_type": "code",
      "metadata": {
        "id": "Nt9FoHHNyl-U",
        "outputId": "c6532a0d-22a7-4f36-8458-d4a9b18d6d46",
        "colab": {
          "base_uri": "https://localhost:8080/",
          "height": 35
        }
      },
      "source": [
        "print('helloworld', 20174107)"
      ],
      "execution_count": 2,
      "outputs": [
        {
          "output_type": "stream",
          "text": [
            "helloworld 20174107\n"
          ],
          "name": "stdout"
        }
      ]
    }
  ]
}